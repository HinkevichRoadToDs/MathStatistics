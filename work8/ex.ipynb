{
 "cells": [
  {
   "cell_type": "code",
   "execution_count": 13,
   "outputs": [],
   "source": [
    "import numpy as np\n",
    "from scipy import stats"
   ],
   "metadata": {
    "collapsed": false
   }
  },
  {
   "cell_type": "markdown",
   "source": [
    "Задание 1. Даны значения величины заработной платы заемщиков банка (zp) и значения их поведенческого кредитного\n",
    "скоринга\n",
    "(ks):\n",
    "zp = [35, 45, 190, 200, 40, 70, 54, 150, 120, 110],\n",
    "\n",
    "ks = [401, 574, 874, 919, 459, 739, 653, 902, 746, 832].\n",
    "\n",
    "Найдите ковариацию этих двух величин с помощью элементарных действий, а затем с помощью функции cov из numpy\n",
    "\n",
    "Полученные значения должны быть равны.\n",
    "\n",
    "Найдите коэффициент корреляции Пирсона с помощью ковариации и среднеквадратичных отклонений двух признаков, а затем с использованием функций из библиотек numpy и pandas."
   ],
   "metadata": {
    "collapsed": false
   }
  },
  {
   "cell_type": "code",
   "execution_count": 14,
   "outputs": [],
   "source": [
    "zp = np.array([35, 45, 190, 200, 40, 70, 54, 150, 120, 110])\n",
    "ks = np.array([401, 574, 874, 919, 459, 739, 653, 902, 746, 832])\n",
    "cov_x_y = np.cov(zp,ks,ddof=1)\n",
    "corr_manually = cov_x_y[1,0] / (zp.std(ddof=1)*ks.std(ddof=1)) # 0.8874900920739162\n",
    "corr_fun = np.corrcoef(zp,ks)[1,0] # 0.8874900920739164"
   ],
   "metadata": {
    "collapsed": false
   }
  },
  {
   "cell_type": "markdown",
   "source": [
    "задача 2.Измерены значения IQ выборки студентов,\n",
    "обучающихся в местных технических вузах:\n",
    "\n",
    "131, 125, 115, 122, 131, 115, 107, 99, 125, 111.\n",
    "\n",
    "Известно, что в генеральной совокупности IQ распределен нормально.\n",
    "\n",
    "Найдите доверительный интервал для математического ожидания с надежностью 0.95."
   ],
   "metadata": {
    "collapsed": false
   }
  },
  {
   "cell_type": "code",
   "execution_count": 20,
   "outputs": [
    {
     "name": "stdout",
     "output_type": "stream",
     "text": [
      "95% Доверительный интервал для среднего ГС:[110.55608365158724 ; 125.64391634841274]\n"
     ]
    }
   ],
   "source": [
    "x = np.array([131, 125, 115, 122, 131, 115, 107, 99, 125, 111])\n",
    "xmean = x.mean()\n",
    "alpha = 0.05\n",
    "# использую t-статистику для нахождения интервала\n",
    "t_crit = stats.t.ppf(1 - alpha/2, df = x.shape[0] - 1) # 2.2621571627409915\n",
    "print(f'95% Доверительный интервал для среднего ГС:[{xmean - t_crit * x.std(ddof=1)/np.sqrt(x.shape[0])} ; '\n",
    "      f'{xmean + t_crit * x.std(ddof=1)/np.sqrt(x.shape[0])}]')"
   ],
   "metadata": {
    "collapsed": false
   }
  },
  {
   "cell_type": "markdown",
   "source": [
    "Задача 3.Известно, что рост футболистов в сборной распределен нормально с дисперсией генеральной совокупности, равной\n",
    "25 кв.см. Объем выборки равен 27, среднее выборочное составляет 174.2. Найдите доверительный интервал для математического ожидания с надежностью 0.95."
   ],
   "metadata": {
    "collapsed": false
   }
  },
  {
   "cell_type": "code",
   "execution_count": 22,
   "outputs": [
    {
     "name": "stdout",
     "output_type": "stream",
     "text": [
      "95% Доверительный интервал для среднего ГС:[172.3140237765397 ; 176.08597622346028]\n"
     ]
    }
   ],
   "source": [
    "sd = 5\n",
    "n =27\n",
    "xmean = 174.2\n",
    "alpha = 0.05\n",
    "z_crit = stats.norm.ppf(1 - alpha/2)\n",
    "print(f'95% Доверительный интервал для среднего ГС:[{xmean - z_crit * sd/np.sqrt(n)} ; '\n",
    "      f'{xmean + z_crit * sd/np.sqrt(n)}]')"
   ],
   "metadata": {
    "collapsed": false
   }
  },
  {
   "cell_type": "code",
   "execution_count": null,
   "outputs": [],
   "source": [],
   "metadata": {
    "collapsed": false
   }
  }
 ],
 "metadata": {
  "kernelspec": {
   "display_name": "Python 3",
   "language": "python",
   "name": "python3"
  },
  "language_info": {
   "codemirror_mode": {
    "name": "ipython",
    "version": 2
   },
   "file_extension": ".py",
   "mimetype": "text/x-python",
   "name": "python",
   "nbconvert_exporter": "python",
   "pygments_lexer": "ipython2",
   "version": "2.7.6"
  }
 },
 "nbformat": 4,
 "nbformat_minor": 0
}
