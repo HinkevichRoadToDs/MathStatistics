{
 "cells": [
  {
   "cell_type": "code",
   "execution_count": 1,
   "metadata": {
    "collapsed": true
   },
   "outputs": [],
   "source": [
    "from scipy import stats\n",
    "import numpy as np"
   ]
  },
  {
   "cell_type": "markdown",
   "source": [
    "Известно, что генеральная совокупность распределена нормально со средним квадратическим отклонением, равным 16.\n",
    "Найти доверительный интервал для оценки математического ожидания a с надежностью 0.95, если выборочная средняя M =\n",
    "80, а объем выборки n = 256."
   ],
   "metadata": {
    "collapsed": false
   }
  },
  {
   "cell_type": "code",
   "execution_count": 8,
   "outputs": [
    {
     "name": "stdout",
     "output_type": "stream",
     "text": [
      "95% Доверительный интервал для среднего mu:[78.04003601545995;81.95996398454005]\n"
     ]
    }
   ],
   "source": [
    "sigma = 16\n",
    "xmean = 80\n",
    "n = 256\n",
    "alpha = 0.05\n",
    "print(f'95% Доверительный интервал для среднего mu:[{xmean - stats.norm.ppf(1-alpha/2)*sigma/np.sqrt(256)}'\n",
    "      f';{xmean + stats.norm.ppf(1-alpha/2)*sigma/np.sqrt(256)}]')"
   ],
   "metadata": {
    "collapsed": false
   }
  },
  {
   "cell_type": "markdown",
   "source": [
    "В результате 10 независимых измерений некоторой величины X, выполненных с одинаковой точностью, получены опытные данные:\n",
    "6.9, 6.1, 6.2, 6.8, 7.5, 6.3, 6.4, 6.9, 6.7, 6.1\n",
    "Предполагая, что результаты измерений подчинены нормальному закону распределения вероятностей, оценить истинное значение величины X при помощи доверительного интервала, покрывающего это значение с доверительной вероятностью 0,95.\n",
    "X ~ N(xmean, sd)"
   ],
   "metadata": {
    "collapsed": false
   }
  },
  {
   "cell_type": "code",
   "execution_count": 13,
   "outputs": [
    {
     "name": "stdout",
     "output_type": "stream",
     "text": [
      "95% доверительный интервал для среднего величины Х:[6.267515851415713;6.912484148584288]\n"
     ]
    }
   ],
   "source": [
    "x = np.array([6.9, 6.1, 6.2, 6.8, 7.5, 6.3, 6.4, 6.9, 6.7, 6.1])\n",
    "n = x.shape[0]\n",
    "xmean = x.mean()\n",
    "sd = x.std(ddof = 1) # несмещенное ско\n",
    "alpha = 0.05\n",
    "# использую t-критерий, так как ничего неизвестно про ско генеральной совокупности\n",
    "print(f'95% доверительный интервал для среднего величины Х:'\n",
    "      f'[{xmean - stats.t.ppf(1-alpha/2, df = n-1)*sd/np.sqrt(n)};'\n",
    "      f'{xmean + stats.t.ppf(1-alpha/2, df = n-1)*sd/np.sqrt(n)}]')"
   ],
   "metadata": {
    "collapsed": false
   }
  },
  {
   "cell_type": "markdown",
   "source": [
    "Рост дочерей 175, 167, 154, 174, 178, 148, 160, 167, 169, 170\n",
    "Рост матерей  178, 165, 165, 173, 168, 155, 160, 164, 178, 175\n",
    "Используя эти данные построить 95% доверительный интервал для разности среднего роста родителей и детей."
   ],
   "metadata": {
    "collapsed": false
   }
  },
  {
   "cell_type": "code",
   "execution_count": 38,
   "outputs": [
    {
     "name": "stdout",
     "output_type": "stream",
     "text": [
      "95 % Доверительный интервал для разности средних[-6.268418034506846;10.068418034506857],интервал включает 0, скорее всего статистически значимых различий в росте нет\n"
     ]
    }
   ],
   "source": [
    "x = np.array([175, 167, 154, 174, 178, 148, 160, 167, 169, 170])\n",
    "y = np.array([178, 165, 165, 173, 168, 155, 160, 164, 178, 175])\n",
    "n = x.shape[0]\n",
    "xmean = x.mean() # 166.2\n",
    "ymean = y.mean() # 168.1\n",
    "\n",
    "D = (x.var(ddof=1) + y.var(ddof=1)) / 2 # 75.58333333333334\n",
    "delta = ymean - xmean # 1.9000000000000057\n",
    "s_delta = np.sqrt(D/n + D/n) # 3.8880157750022915\n",
    "t_crit = stats.t.ppf(1-0.05/2, df = 2*(n - 1)) # 2.024394164575136\n",
    "print(f'95 % Доверительный интервал для разности средних[{delta-t_crit*s_delta};{delta+t_crit*s_delta}],'\n",
    "      f'интервал включает 0, скорее всего статистически значимых различий в росте нет')"
   ],
   "metadata": {
    "collapsed": false
   }
  },
  {
   "cell_type": "code",
   "execution_count": null,
   "outputs": [],
   "source": [],
   "metadata": {
    "collapsed": false
   }
  }
 ],
 "metadata": {
  "kernelspec": {
   "display_name": "Python 3",
   "language": "python",
   "name": "python3"
  },
  "language_info": {
   "codemirror_mode": {
    "name": "ipython",
    "version": 2
   },
   "file_extension": ".py",
   "mimetype": "text/x-python",
   "name": "python",
   "nbconvert_exporter": "python",
   "pygments_lexer": "ipython2",
   "version": "2.7.6"
  }
 },
 "nbformat": 4,
 "nbformat_minor": 0
}
